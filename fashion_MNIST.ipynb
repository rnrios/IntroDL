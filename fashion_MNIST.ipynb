{
  "nbformat": 4,
  "nbformat_minor": 0,
  "metadata": {
    "colab": {
      "name": "clothing_classification.ipynb",
      "provenance": [],
      "collapsed_sections": [],
      "authorship_tag": "ABX9TyM1SZ+sp+Zo3p1R8Ym2cdRM",
      "include_colab_link": true
    },
    "kernelspec": {
      "name": "python3",
      "display_name": "Python 3"
    },
    "language_info": {
      "name": "python"
    }
  },
  "cells": [
    {
      "cell_type": "markdown",
      "metadata": {
        "id": "view-in-github",
        "colab_type": "text"
      },
      "source": [
        "<a href=\"https://colab.research.google.com/github/rnrios/IntroDL/blob/master/fashion_MNIST.ipynb\" target=\"_parent\"><img src=\"https://colab.research.google.com/assets/colab-badge.svg\" alt=\"Open In Colab\"/></a>"
      ]
    },
    {
      "cell_type": "markdown",
      "source": [
        "#Loading data, training and evaluating model"
      ],
      "metadata": {
        "id": "hOcajIW8g6F1"
      }
    },
    {
      "cell_type": "markdown",
      "metadata": {
        "id": "X98bc1S7wB0r"
      },
      "source": [
        "Imports"
      ]
    },
    {
      "cell_type": "code",
      "metadata": {
        "id": "9KH8rJkyn9XO"
      },
      "source": [
        "import tensorflow\n",
        "from tensorflow import keras"
      ],
      "execution_count": null,
      "outputs": []
    },
    {
      "cell_type": "markdown",
      "metadata": {
        "id": "HC9PZ_plwERu"
      },
      "source": [
        "Loading dataset"
      ]
    },
    {
      "cell_type": "code",
      "metadata": {
        "colab": {
          "base_uri": "https://localhost:8080/"
        },
        "id": "mIYTVGccoYvq",
        "outputId": "b549e4d0-0ab2-427a-e1f4-25abfaf17779"
      },
      "source": [
        "dataset = keras.datasets.fashion_mnist\n",
        "(train_images, train_labels),(test_images, test_labels) = dataset.load_data()\n",
        "train_images.shape"
      ],
      "execution_count": null,
      "outputs": [
        {
          "output_type": "execute_result",
          "data": {
            "text/plain": [
              "(60000, 28, 28)"
            ]
          },
          "metadata": {},
          "execution_count": 5
        }
      ]
    },
    {
      "cell_type": "markdown",
      "metadata": {
        "id": "kxtikEqRwF73"
      },
      "source": [
        "Visualizing datasamples"
      ]
    },
    {
      "cell_type": "code",
      "metadata": {
        "colab": {
          "base_uri": "https://localhost:8080/",
          "height": 224
        },
        "id": "fy-OonO-oncs",
        "outputId": "f08421e9-8176-4cc5-8220-952d186e2ad3"
      },
      "source": [
        "import matplotlib.pyplot as plt\n",
        "import numpy as np\n",
        "import numpy.random\n",
        "\n",
        "samples = np.random.choice(range(len(train_images)), 5)\n",
        "plt.figure(figsize=(24,8))\n",
        "for i, sample in enumerate(samples):\n",
        "  plt.subplot(1, 5, i+1)\n",
        "  plt.imshow(train_images[sample])\n",
        "  plt.title(train_labels[sample])\n",
        "  plt.axis('off')\n",
        "plt.show()"
      ],
      "execution_count": null,
      "outputs": [
        {
          "output_type": "display_data",
          "data": {
            "image/png": "[encoded data removed]",
            "text/plain": [
              "<Figure size 1728x576 with 5 Axes>"
            ]
          },
          "metadata": {
            "needs_background": "light"
          }
        }
      ]
    },
    {
      "cell_type": "markdown",
      "metadata": {
        "id": "Qv5RsGTPGxA3"
      },
      "source": [
        "Normalizing training images"
      ]
    },
    {
      "cell_type": "code",
      "metadata": {
        "id": "nAg7O1oWGt-n"
      },
      "source": [
        "train_images = train_images/255."
      ],
      "execution_count": null,
      "outputs": []
    },
    {
      "cell_type": "markdown",
      "metadata": {
        "id": "issrsSq-HXZZ"
      },
      "source": [
        "Training model"
      ]
    },
    {
      "cell_type": "code",
      "metadata": {
        "colab": {
          "base_uri": "https://localhost:8080/"
        },
        "id": "IEgE4LolrXIu",
        "outputId": "bd976958-99cf-4bbe-d5d1-166eca9f27e4"
      },
      "source": [
        "history = model.fit(train_images, train_labels, epochs=4, validation_split=.2, batch_size=32)"
      ],
      "execution_count": null,
      "outputs": [
        {
          "output_type": "stream",
          "name": "stdout",
          "text": [
            "Epoch 1/4\n",
            "1500/1500 [==============================] - 10s 7ms/step - loss: 0.3208 - accuracy: 0.8808 - val_loss: 0.3691 - val_accuracy: 0.8791\n",
            "Epoch 2/4\n",
            "1500/1500 [==============================] - 10s 7ms/step - loss: 0.3124 - accuracy: 0.8842 - val_loss: 0.3692 - val_accuracy: 0.8808\n",
            "Epoch 3/4\n",
            "1500/1500 [==============================] - 10s 7ms/step - loss: 0.3055 - accuracy: 0.8840 - val_loss: 0.3637 - val_accuracy: 0.8830\n",
            "Epoch 4/4\n",
            "1500/1500 [==============================] - 11s 7ms/step - loss: 0.3008 - accuracy: 0.8859 - val_loss: 0.3614 - val_accuracy: 0.8817\n"
          ]
        }
      ]
    },
    {
      "cell_type": "markdown",
      "metadata": {
        "id": "aKOyzA-7HaMB"
      },
      "source": [
        "Visualizing trained model"
      ]
    },
    {
      "cell_type": "code",
      "metadata": {
        "colab": {
          "base_uri": "https://localhost:8080/",
          "height": 295
        },
        "id": "tPWS-UMh9HBt",
        "outputId": "376ba07a-7e8f-4d97-e0b6-3722a1c9d229"
      },
      "source": [
        "plt.plot(history.history['accuracy'])\n",
        "plt.plot(history.history['val_accuracy'])\n",
        "plt.title('Accuracy along training')\n",
        "plt.xlabel('epochs')\n",
        "plt.ylabel('accuracy')\n",
        "plt.legend(['train', 'val'])\n",
        "plt.show()"
      ],
      "execution_count": null,
      "outputs": [
        {
          "output_type": "display_data",
          "data": {
            "image/png": "[encoded data removed]",
            "text/plain": [
              "<Figure size 432x288 with 1 Axes>"
            ]
          },
          "metadata": {
            "needs_background": "light"
          }
        }
      ]
    },
    {
      "cell_type": "code",
      "metadata": {
        "colab": {
          "base_uri": "https://localhost:8080/",
          "height": 295
        },
        "id": "KzK1Tl9BBrbd",
        "outputId": "a7befce2-3053-4b50-c265-57cdca241ff3"
      },
      "source": [
        "plt.plot(history.history['loss'])\n",
        "plt.plot(history.history['val_loss'])\n",
        "plt.title('Loss along training')\n",
        "plt.xlabel('epochs')\n",
        "plt.ylabel('loss')\n",
        "plt.legend(['train', 'val'])\n",
        "plt.show()"
      ],
      "execution_count": null,
      "outputs": [
        {
          "output_type": "display_data",
          "data": {
            "image/png": "[encoded data removed]",
            "text/plain": [
              "<Figure size 432x288 with 1 Axes>"
            ]
          },
          "metadata": {
            "needs_background": "light"
          }
        }
      ]
    },
    {
      "cell_type": "markdown",
      "metadata": {
        "id": "s4e54w-UHd67"
      },
      "source": [
        "Exporting and testing model"
      ]
    },
    {
      "cell_type": "code",
      "metadata": {
        "colab": {
          "base_uri": "https://localhost:8080/"
        },
        "id": "mFU3sz5xwaDY",
        "outputId": "6d3569fe-c697-41b5-94d4-f079e0bc9802"
      },
      "source": [
        "loss, accuracy = model.evaluate(test_images, test_labels)\n",
        "print('Loss: ', loss, '\\nAccuracy: ', accuracy)"
      ],
      "execution_count": null,
      "outputs": [
        {
          "output_type": "stream",
          "name": "stdout",
          "text": [
            "313/313 [==============================] - 1s 3ms/step - loss: 91.5913 - accuracy: 0.8280\n",
            "Loss:  91.59129333496094 \n",
            "Accuracy:  0.828000009059906\n"
          ]
        }
      ]
    },
    {
      "cell_type": "code",
      "metadata": {
        "colab": {
          "base_uri": "https://localhost:8080/"
        },
        "id": "RjOlWPjjB_Dz",
        "outputId": "325bde2a-51ae-4a09-dc1d-368f8ecbe778"
      },
      "source": [
        "from tensorflow.keras.models import load_model\n",
        "\n",
        "model.save('model.h5')\n",
        "saved_model = load_model('model.h5')\n",
        "saved_model_test_dataset = saved_model.predict(test_images)\n",
        "samples = np.random.choice(len(test_images), 5)\n",
        "for sample in samples:\n",
        "  print('Test image result: ', np.argmax(saved_model_test_dataset[sample]),\n",
        "      '\\tExpected result: ', test_labels[sample])"
      ],
      "execution_count": null,
      "outputs": [
        {
          "output_type": "stream",
          "name": "stdout",
          "text": [
            "Test image result:  6 \tExpected result:  6\n",
            "Test image result:  9 \tExpected result:  9\n",
            "Test image result:  5 \tExpected result:  5\n",
            "Test image result:  0 \tExpected result:  0\n",
            "Test image result:  9 \tExpected result:  9\n"
          ]
        }
      ]
    },
    {
      "cell_type": "markdown",
      "source": [
        "#Model inspection"
      ],
      "metadata": {
        "id": "11Gd81pXg_jh"
      }
    },
    {
      "cell_type": "code",
      "source": [
        "model.summary()"
      ],
      "metadata": {
        "colab": {
          "base_uri": "https://localhost:8080/"
        },
        "id": "j6E8zznhhlQr",
        "outputId": "c18535e6-83b3-46ff-a81e-b261a22a42c5"
      },
      "execution_count": null,
      "outputs": [
        {
          "output_type": "stream",
          "name": "stdout",
          "text": [
            "Model: \"sequential\"\n",
            "_________________________________________________________________\n",
            " Layer (type)                Output Shape              Param #   \n",
            "=================================================================\n",
            " flatten (Flatten)           (None, 784)               0         \n",
            "                                                                 \n",
            " dense (Dense)               (None, 512)               401920    \n",
            "                                                                 \n",
            " dropout (Dropout)           (None, 512)               0         \n",
            "                                                                 \n",
            " dense_1 (Dense)             (None, 10)                5130      \n",
            "                                                                 \n",
            "=================================================================\n",
            "Total params: 407,050\n",
            "Trainable params: 407,050\n",
            "Non-trainable params: 0\n",
            "_________________________________________________________________\n"
          ]
        }
      ]
    },
    {
      "cell_type": "code",
      "source": [
        "model.get_config()"
      ],
      "metadata": {
        "id": "lg6NcL90ECaW"
      },
      "execution_count": null,
      "outputs": []
    },
    {
      "cell_type": "markdown",
      "source": [
        "##Zero-initializing weights"
      ],
      "metadata": {
        "id": "EWUvds2ilpnu"
      }
    },
    {
      "cell_type": "code",
      "source": [
        "first_dense_layer = model.layers[1].get_weights()\n",
        "first_weight_layer_shape = first_dense_layer[0].shape\n",
        "print('Weights shape: {}\\tBiases shape: {}'.format(first_dense_layer[0].shape,\n",
        "                                                    first_dense_layer[1].shape))"
      ],
      "metadata": {
        "colab": {
          "base_uri": "https://localhost:8080/"
        },
        "id": "Vuq6DaP2hncu",
        "outputId": "4f995cb3-d8bf-43e7-9f47-3bcd52ccea2d"
      },
      "execution_count": null,
      "outputs": [
        {
          "output_type": "stream",
          "name": "stdout",
          "text": [
            "Weights shape: (784, 512)\tBiases shape: (512,)\n"
          ]
        }
      ]
    },
    {
      "cell_type": "code",
      "source": [
        "model.layers[1].set_weights([np.zeros(first_dense_layer[0].shape),\n",
        "                            first_dense_layer[1]])"
      ],
      "metadata": {
        "id": "j586eiIaiBz7"
      },
      "execution_count": null,
      "outputs": []
    },
    {
      "cell_type": "code",
      "source": [
        "#@title Train model\n",
        "model = keras.Sequential(\n",
        "    [\n",
        "    keras.layers.Flatten(input_shape = (28,28)),\n",
        "    keras.layers.Dense(512, activation=tensorflow.nn.relu),\n",
        "    keras.layers.Dropout(0.2),\n",
        "    keras.layers.Dense(10, activation=tensorflow.nn.softmax)\n",
        "    ]\n",
        ")\n",
        "\n",
        "model.compile(optimizer='adam', loss='sparse_categorical_crossentropy',\n",
        "              metrics=['accuracy'])\n",
        "history = model.fit(train_images, train_labels, epochs=4, validation_split=.2, batch_size=1)"
      ],
      "metadata": {
        "colab": {
          "base_uri": "https://localhost:8080/"
        },
        "cellView": "form",
        "id": "UTEXqqq5kZHq",
        "outputId": "3bdff641-ea1b-4eb8-f9b8-faf4a0290df3"
      },
      "execution_count": null,
      "outputs": [
        {
          "output_type": "stream",
          "name": "stdout",
          "text": [
            "Epoch 1/4\n",
            "48000/48000 [==============================] - 142s 3ms/step - loss: 0.5926 - accuracy: 0.7921 - val_loss: 0.4647 - val_accuracy: 0.8340\n",
            "Epoch 2/4\n",
            "48000/48000 [==============================] - 145s 3ms/step - loss: 0.5055 - accuracy: 0.8270 - val_loss: 0.4719 - val_accuracy: 0.8372\n",
            "Epoch 3/4\n",
            "48000/48000 [==============================] - 134s 3ms/step - loss: 0.4923 - accuracy: 0.8379 - val_loss: 0.4698 - val_accuracy: 0.8520\n",
            "Epoch 4/4\n",
            "48000/48000 [==============================] - 133s 3ms/step - loss: 0.4805 - accuracy: 0.8423 - val_loss: 0.5122 - val_accuracy: 0.8438\n"
          ]
        }
      ]
    },
    {
      "cell_type": "code",
      "source": [
        "#@title Evaluate model\n",
        "plt.plot(history.history['loss'])\n",
        "plt.plot(history.history['val_loss'])\n",
        "plt.title('Loss along training')\n",
        "plt.xlabel('epochs')\n",
        "plt.ylabel('loss')\n",
        "plt.legend(['train', 'val'])\n",
        "plt.show()"
      ],
      "metadata": {
        "colab": {
          "base_uri": "https://localhost:8080/",
          "height": 295
        },
        "cellView": "form",
        "id": "TxOjEpT6k-W6",
        "outputId": "5e08e402-c690-4184-9a95-de2f2d38914d"
      },
      "execution_count": null,
      "outputs": [
        {
          "output_type": "display_data",
          "data": {
            "image/png": "[encoded data removed]",
            "text/plain": [
              "<Figure size 432x288 with 1 Axes>"
            ]
          },
          "metadata": {
            "needs_background": "light"
          }
        }
      ]
    },
    {
      "cell_type": "markdown",
      "source": [
        "##Random-initializing weights"
      ],
      "metadata": {
        "id": "EnjMPBYqlwtk"
      }
    },
    {
      "cell_type": "code",
      "source": [
        "model.layers[1].set_weights([np.random.rand(784, 512),\n",
        "                            first_dense_layer[1]])"
      ],
      "metadata": {
        "id": "f8-dPd5Xl9go"
      },
      "execution_count": null,
      "outputs": []
    },
    {
      "cell_type": "code",
      "source": [
        "#@title Train model\n",
        "model = keras.Sequential(\n",
        "    [\n",
        "    keras.layers.Flatten(input_shape = (28,28)),\n",
        "    keras.layers.Dense(512, activation=tensorflow.nn.relu),\n",
        "    keras.layers.Dropout(0.2),\n",
        "    keras.layers.Dense(10, activation=tensorflow.nn.softmax)\n",
        "    ]\n",
        ")\n",
        "\n",
        "model.compile(optimizer='adam', loss='sparse_categorical_crossentropy',\n",
        "              metrics=['accuracy'])\n",
        "history = model.fit(train_images, train_labels, epochs=4, validation_split=.2, batch_size=1)"
      ],
      "metadata": {
        "colab": {
          "base_uri": "https://localhost:8080/"
        },
        "cellView": "form",
        "outputId": "ef61110b-3507-46f8-bfc9-5a051c872257",
        "id": "Pefdjz7Nl9gp"
      },
      "execution_count": null,
      "outputs": [
        {
          "output_type": "stream",
          "name": "stdout",
          "text": [
            "Epoch 1/4\n",
            "48000/48000 [==============================] - 144s 3ms/step - loss: 0.5890 - accuracy: 0.7923 - val_loss: 0.4942 - val_accuracy: 0.8272\n",
            "Epoch 2/4\n",
            "48000/48000 [==============================] - 134s 3ms/step - loss: 0.5089 - accuracy: 0.8286 - val_loss: 0.5050 - val_accuracy: 0.8223\n",
            "Epoch 3/4\n",
            "48000/48000 [==============================] - 144s 3ms/step - loss: 0.4933 - accuracy: 0.8371 - val_loss: 0.4864 - val_accuracy: 0.8322\n",
            "Epoch 4/4\n",
            "48000/48000 [==============================] - 142s 3ms/step - loss: 0.4771 - accuracy: 0.8446 - val_loss: 0.4475 - val_accuracy: 0.8592\n"
          ]
        }
      ]
    },
    {
      "cell_type": "code",
      "source": [
        "#@title Evaluate model\n",
        "plt.plot(history.history['loss'])\n",
        "plt.plot(history.history['val_loss'])\n",
        "plt.title('Loss along training')\n",
        "plt.xlabel('epochs')\n",
        "plt.ylabel('loss')\n",
        "plt.legend(['train', 'val'])\n",
        "plt.show()"
      ],
      "metadata": {
        "cellView": "form",
        "colab": {
          "base_uri": "https://localhost:8080/",
          "height": 295
        },
        "id": "cUvHwa-ml9gq",
        "outputId": "1a237a7f-a82b-4772-99c5-c9155538812a"
      },
      "execution_count": null,
      "outputs": [
        {
          "output_type": "display_data",
          "data": {
            "image/png": "[encoded data removed]",
            "text/plain": [
              "<Figure size 432x288 with 1 Axes>"
            ]
          },
          "metadata": {
            "needs_background": "light"
          }
        }
      ]
    },
    {
      "cell_type": "markdown",
      "source": [
        "##Zero-initializing biases"
      ],
      "metadata": {
        "id": "guHVzIVMC78d"
      }
    },
    {
      "cell_type": "code",
      "source": [
        "first_dense_layer = model.layers[1].get_weights()\n",
        "first_weight_layer_shape = first_dense_layer[0].shape\n",
        "print('Weights shape: {}\\tBiases shape: {}'.format(first_dense_layer[0].shape,\n",
        "                                                    first_dense_layer[1].shape))"
      ],
      "metadata": {
        "colab": {
          "base_uri": "https://localhost:8080/"
        },
        "outputId": "3841f6f7-af02-4e9a-dfb5-205bb5843b55",
        "id": "rgOUg3M1C78s"
      },
      "execution_count": null,
      "outputs": [
        {
          "output_type": "stream",
          "name": "stdout",
          "text": [
            "Weights shape: (784, 512)\tBiases shape: (512,)\n"
          ]
        }
      ]
    },
    {
      "cell_type": "code",
      "source": [
        "model.layers[1].set_weights([np.zeros(first_dense_layer[0].shape),\n",
        "                            np.zeros(first_dense_layer[1].shape)])"
      ],
      "metadata": {
        "id": "HSCseeCCC78w"
      },
      "execution_count": null,
      "outputs": []
    },
    {
      "cell_type": "code",
      "source": [
        "#@title Train model\n",
        "model = keras.Sequential(\n",
        "    [\n",
        "    keras.layers.Flatten(input_shape = (28,28)),\n",
        "    keras.layers.Dense(512, activation=tensorflow.nn.relu),\n",
        "    keras.layers.Dropout(0.2),\n",
        "    keras.layers.Dense(10, activation=tensorflow.nn.softmax)\n",
        "    ]\n",
        ")\n",
        "\n",
        "model.compile(optimizer='adam', loss='sparse_categorical_crossentropy',\n",
        "              metrics=['accuracy'])\n",
        "history = model.fit(train_images, train_labels, epochs=4, validation_split=.2, batch_size=1)"
      ],
      "metadata": {
        "colab": {
          "base_uri": "https://localhost:8080/"
        },
        "cellView": "form",
        "outputId": "a934fdd3-6ff7-4aed-f136-ac777ddecb06",
        "id": "Gycpc3pUC78y"
      },
      "execution_count": null,
      "outputs": [
        {
          "output_type": "stream",
          "name": "stdout",
          "text": [
            "Epoch 1/4\n",
            "48000/48000 [==============================] - 164s 3ms/step - loss: 0.5957 - accuracy: 0.7919 - val_loss: 0.4728 - val_accuracy: 0.8208\n",
            "Epoch 2/4\n",
            "48000/48000 [==============================] - 161s 3ms/step - loss: 0.5026 - accuracy: 0.8272 - val_loss: 0.4745 - val_accuracy: 0.8491\n",
            "Epoch 3/4\n",
            "48000/48000 [==============================] - 164s 3ms/step - loss: 0.4927 - accuracy: 0.8351 - val_loss: 0.4410 - val_accuracy: 0.8631\n",
            "Epoch 4/4\n",
            "48000/48000 [==============================] - 162s 3ms/step - loss: 0.4804 - accuracy: 0.8403 - val_loss: 0.4883 - val_accuracy: 0.8549\n"
          ]
        }
      ]
    },
    {
      "cell_type": "code",
      "source": [
        "#@title Evaluate model\n",
        "plt.plot(history.history['loss'])\n",
        "plt.plot(history.history['val_loss'])\n",
        "plt.title('Loss along training')\n",
        "plt.xlabel('epochs')\n",
        "plt.ylabel('loss')\n",
        "plt.legend(['train', 'val'])\n",
        "plt.show()"
      ],
      "metadata": {
        "colab": {
          "base_uri": "https://localhost:8080/",
          "height": 295
        },
        "cellView": "form",
        "outputId": "5e08e402-c690-4184-9a95-de2f2d38914d",
        "id": "bMQsfr9YC784"
      },
      "execution_count": null,
      "outputs": [
        {
          "output_type": "display_data",
          "data": {
            "image/png": "[encoded data removed]",
            "text/plain": [
              "<Figure size 432x288 with 1 Axes>"
            ]
          },
          "metadata": {
            "needs_background": "light"
          }
        }
      ]
    },
    {
      "cell_type": "markdown",
      "source": [
        "#Exploring hyperparameters"
      ],
      "metadata": {
        "id": "SbJo_CrtfWcu"
      }
    },
    {
      "cell_type": "code",
      "source": [
        "callbacks = [keras.callbacks.EarlyStopping(monitor='val_loss'),\n",
        "             keras.callbacks.ModelCheckpoint(filepath='model.hdf5',\n",
        "                                             monitor='val_loss',\n",
        "                                             save_best_only=True)]\n",
        "\n",
        "model = keras.Sequential(\n",
        "    [\n",
        "    keras.layers.Flatten(input_shape = (28,28)),\n",
        "    keras.layers.Dense(512, activation=tensorflow.nn.relu),\n",
        "    keras.layers.Dropout(0.2),\n",
        "    keras.layers.Dense(10, activation=tensorflow.nn.softmax)\n",
        "    ]\n",
        ")\n",
        "\n",
        "model.compile(optimizer='adam', \n",
        "              loss='sparse_categorical_crossentropy',\n",
        "              metrics=['accuracy'])\n",
        "\n",
        "history = model.fit(train_images, \n",
        "                    train_labels, \n",
        "                    epochs=10, \n",
        "                    validation_split=.2, \n",
        "                    batch_size=1000,\n",
        "                    callbacks = callbacks)"
      ],
      "metadata": {
        "colab": {
          "base_uri": "https://localhost:8080/"
        },
        "id": "iUu6i_kketal",
        "outputId": "bd77ae94-c1c3-4f92-c312-566f2725b64c"
      },
      "execution_count": null,
      "outputs": [
        {
          "output_type": "stream",
          "name": "stdout",
          "text": [
            "Epoch 1/10\n",
            "48/48 [==============================] - 3s 52ms/step - loss: 0.7817 - accuracy: 0.7329 - val_loss: 0.5108 - val_accuracy: 0.8227\n",
            "Epoch 2/10\n",
            "48/48 [==============================] - 2s 48ms/step - loss: 0.4899 - accuracy: 0.8317 - val_loss: 0.4459 - val_accuracy: 0.8475\n"
          ]
        }
      ]
    },
    {
      "cell_type": "code",
      "source": [
        ""
      ],
      "metadata": {
        "id": "Yr54BptmfJY2"
      },
      "execution_count": null,
      "outputs": []
    }
  ]
}